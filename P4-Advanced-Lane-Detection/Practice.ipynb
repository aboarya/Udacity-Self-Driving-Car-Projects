{
 "cells": [
  {
   "cell_type": "code",
   "execution_count": 21,
   "metadata": {
    "collapsed": false
   },
   "outputs": [],
   "source": [
    "import numpy as np\n",
    "import cv2\n",
    "import glob\n",
    "import matplotlib.pyplot as plt\n",
    "%matplotlib inline\n",
    "\n"
   ]
  },
  {
   "cell_type": "code",
   "execution_count": 331,
   "metadata": {
    "collapsed": false
   },
   "outputs": [],
   "source": [
    "class LaneDetection(object):\n",
    "    \n",
    "    def __init__(self, cal_images):\n",
    "        self.cal_images = cal_images\n",
    "        self.calibrate_camera()\n",
    "    \n",
    "    def set_obj_and_img_points(self):\n",
    "        # prepare object points, like (0,0,0), (1,0,0), (2,0,0) ....,(6,5,0)\n",
    "        objp = np.zeros((6*9,3), np.float32)\n",
    "        objp[:,:2] = np.mgrid[0:9,0:6].T.reshape(-1,2)\n",
    "\n",
    "        # Arrays to store object points and image points from all the images.\n",
    "        self.objpoints = [] # 3d points in real world space\n",
    "        self.imgpoints = [] # 2d points in image plane.\n",
    "    \n",
    "        # Step through the list and search for chessboard corners\n",
    "        for fname in self.cal_images:\n",
    "            img = cv2.imread(fname)\n",
    "            gray = cv2.cvtColor(img,cv2.COLOR_BGR2GRAY)\n",
    "\n",
    "            # Find the chessboard corners\n",
    "            ret, corners = cv2.findChessboardCorners(gray, (9, 6), None)\n",
    "#             if not ret: print(fname)\n",
    "            # If found, add object points, image points\n",
    "            if ret == True:\n",
    "                self.objpoints.append(objp)\n",
    "                self.imgpoints.append(corners)\n",
    "\n",
    "                # Draw and display the corners\n",
    "                img = cv2.drawChessboardCorners(img, (9,6), corners, ret)\n",
    "    \n",
    "    def calibrate_camera(self):\n",
    "        self.set_obj_and_img_points()\n",
    "        if len(self.objpoints) == 0 or len(self.imgpoints) == 0:\n",
    "            raise Exception(\"Calibration Failed!\")\n",
    "        \n",
    "        # Do camera calibration given object points and image points\n",
    "        ret, mtx, dist, rvecs, tvecs = cv2.calibrateCamera(self.objpoints, self.imgpoints, img_size, None, None)\n",
    "        \n",
    "        self.mtx = mtx\n",
    "        self.dist = dist\n",
    "\n",
    "    def undistort(self, img):\n",
    "        return cv2.undistort(img, self.mtx, self.dist, None, mtx)\n",
    "    \n",
    "    def to_gray(self, img):\n",
    "        return cv2.cvtColor(img, cv2.COLOR_BGR2GRAY)\n",
    "    \n",
    "    def top_view(self, img):\n",
    "        # Use the OpenCV undistort() function to remove distortion\n",
    "        undist = self.undistort(img)\n",
    "        \n",
    "        # Convert undistorted image to grayscale\n",
    "        gray = self.to_gray(undist)\n",
    "        \n",
    "    def abs_sobel_thresh(self, gray, orient='x', thresh_min=40, thresh_max=200, ksize=5):\n",
    "        # Apply x or y gradient with the OpenCV Sobel() function\n",
    "        # and take the absolute value\n",
    "        if orient == 'x':\n",
    "            abs_sobel = np.absolute(cv2.Sobel(gray, cv2.CV_64F, 1, 0, ksize=ksize))\n",
    "        if orient == 'y':\n",
    "            abs_sobel = np.absolute(cv2.Sobel(gray, cv2.CV_64F, 0, 1, ksize=ksize))\n",
    "        \n",
    "        # Rescale back to 8 bit integer\n",
    "        scaled_sobel = np.uint8(255 * abs_sobel / np.max(abs_sobel))\n",
    "        \n",
    "        # Create a copy and apply the threshold\n",
    "        binary_output = np.zeros_like(scaled_sobel)\n",
    "        \n",
    "        binary_output[(scaled_sobel >= thresh_min) & (scaled_sobel <= thresh_max)] = 1\n",
    "\n",
    "        # Return the result\n",
    "        return binary_output\n",
    "    \n",
    "    def mag_thresh(self, gray, thresh_min=40, thresh_max=250, ksize=7):\n",
    "        # Take both Sobel x and y gradients\n",
    "        sobelx = cv2.Sobel(gray, cv2.CV_64F, 1, 0, ksize=ksize)\n",
    "        \n",
    "        sobely = cv2.Sobel(gray, cv2.CV_64F, 0, 1, ksize=ksize)\n",
    "        \n",
    "        # Calculate the gradient magnitude\n",
    "        gradmag = np.sqrt(sobelx**2 + sobely**2)\n",
    "        \n",
    "        # Rescale to 8 bit\n",
    "        scale_factor = np.max(gradmag) / 255 \n",
    "        \n",
    "        gradmag = (gradmag/scale_factor).astype(np.uint8) \n",
    "        \n",
    "        # Create a binary image of ones where threshold is met, zeros otherwise\n",
    "        binary_output = np.zeros_like(gradmag)\n",
    "        \n",
    "        binary_output[(gradmag >= thresh_min) & (gradmag <= thresh_max)] = 1\n",
    "\n",
    "        # Return the binary image\n",
    "        return binary_output\n",
    "    \n",
    "    def dir_threshold(self, gray, ksize=7, thresh=(0.7, 1.3)):\n",
    "\n",
    "        # Calculate the x and y gradients\n",
    "        sobelx = cv2.Sobel(gray, cv2.CV_64F, 1, 0, ksize=ksize)\n",
    "        \n",
    "        sobely = cv2.Sobel(gray, cv2.CV_64F, 0, 1, ksize=ksize)\n",
    "        \n",
    "        # Take the absolute value of the gradient direction, \n",
    "        # apply a threshold, and create a binary image result\n",
    "        absgraddir = np.arctan2(np.absolute(sobely), np.absolute(sobelx))\n",
    "        \n",
    "        binary_output =  np.zeros_like(absgraddir)\n",
    "        \n",
    "        binary_output[(absgraddir >= thresh[0]) & (absgraddir <= thresh[1])] = 1\n",
    "\n",
    "        # Return the binary image\n",
    "        return binary_output\n",
    "    \n",
    "    def gradient_binary(self, gray, thresh_min=40, thresh_max=250, ksize=7, thresh=(0.7, 1.3)):\n",
    "        # Apply each of the thresholding functions\n",
    "        gradx = self.abs_sobel_thresh(gray, orient='x',thresh_min=thresh_min, thresh_max=thresh_max, ksize=ksize)\n",
    "\n",
    "        grady = self.abs_sobel_thresh(gray, orient='y', thresh_min=thresh_min, thresh_max=thresh_max, ksize=ksize)\n",
    "\n",
    "        mag_binary = self.mag_thresh(gray, thresh_min=thresh_min, thresh_max=thresh_max, ksize=ksize)\n",
    "\n",
    "        dir_binary = self.dir_threshold(gray, ksize=ksize, thresh=thresh)\n",
    "        \n",
    "        combined = np.zeros_like(dir_binary)\n",
    "        \n",
    "        combined[((gradx == 1) & (grady == 1)) | ((mag_binary == 1) & (dir_binary == 1))] = 1\n",
    "        \n",
    "        # Return the result\n",
    "        return combined\n",
    "        \n",
    "    def binary_transform(self, img, thresh_min=40, thresh_max=250, ksize=7, thresh=(0.7, 1.3), hls_thresh=(175, 255)):\n",
    "        \n",
    "        gray = self.to_gray(img)\n",
    "        \n",
    "        # Threshold gradient\n",
    "        sxbinary = self.gradient_binary(gray)\n",
    "    \n",
    "        # Threshold color channel\n",
    "        s_binary = self.to_hls(img)\n",
    "    \n",
    "        # Stack each channel to view their individual contributions in green and blue respectively\n",
    "        # This returns a stack of the two binary images, whose components you can see as different colors\n",
    "        color_binary = np.dstack(( np.zeros_like(sxbinary), sxbinary, s_binary))\n",
    "    \n",
    "        # Combine the two binary thresholds\n",
    "        combined_binary = np.zeros_like(sxbinary)\n",
    "        combined_binary[(s_binary == 1) | (sxbinary == 1)] = 1\n",
    "        \n",
    "        # Return the result\n",
    "        return combined_binary\n",
    "    \n",
    "    def to_hls(self, img, hls_thresh=(50, 200)):\n",
    "        hls = cv2.cvtColor(img, cv2.COLOR_BGR2HLS)\n",
    "        \n",
    "        s_channel = hls[:,:,2]\n",
    "        \n",
    "        binary_output = np.zeros_like(s_channel)\n",
    "        \n",
    "        binary_output[(s_channel > hls_thresh[0]) & (s_channel <= hls_thresh[1])] = 1\n",
    "        \n",
    "        return binary_output"
   ]
  },
  {
   "cell_type": "code",
   "execution_count": 332,
   "metadata": {
    "collapsed": false
   },
   "outputs": [],
   "source": [
    "ld = LaneDetection(glob.glob('camera_cal/calibration*.jpg'))"
   ]
  },
  {
   "cell_type": "code",
   "execution_count": 333,
   "metadata": {
    "collapsed": false
   },
   "outputs": [
    {
     "data": {
      "text/plain": [
       "<matplotlib.image.AxesImage at 0x7f5c3699d550>"
      ]
     },
     "execution_count": 333,
     "metadata": {},
     "output_type": "execute_result"
    },
    {
     "data": {
      "image/png": "[encoded data removed]",
      "text/plain": [
       "<matplotlib.figure.Figure at 0x7f5c36aa9b00>"
      ]
     },
     "metadata": {},
     "output_type": "display_data"
    }
   ],
   "source": [
    "img = cv2.imread('test_images/test3.jpg')\n",
    "# dst = ld.dir_threshold(lane_detection.to_gray(img), ksize=7, thresh=(0.7, 1.3))\n",
    "# dst = ld.abs_sobel_thresh(lane_detection.to_gray(img), orient='x', thresh_min=40, thresh_max=250, ksize=7)\n",
    "# dst = ld.mag_thresh(lane_detection.to_gray(img), thresh_min=40, thresh_max=250, ksize=7)\n",
    "# dst = ld.binary_transform(lane_detection.to_gray(img))\n",
    "dst = ld.binary_transform(img)\n",
    "cv2.imwrite('output_images/binary_test3.jpg', dst * 255)\n",
    "plt.imshow(dst, interpolation='nearest', aspect='auto', cmap='gray')\n",
    "# plt.imshow(lane_detection.to_gray(img), interpolation='nearest', aspect='auto', cmap='gray')"
   ]
  },
  {
   "cell_type": "code",
   "execution_count": null,
   "metadata": {
    "collapsed": false
   },
   "outputs": [],
   "source": []
  },
  {
   "cell_type": "code",
   "execution_count": null,
   "metadata": {
    "collapsed": true
   },
   "outputs": [],
   "source": []
  }
 ],
 "metadata": {
  "kernelspec": {
   "display_name": "Python 3",
   "language": "python",
   "name": "python3"
  },
  "language_info": {
   "codemirror_mode": {
    "name": "ipython",
    "version": 3
   },
   "file_extension": ".py",
   "mimetype": "text/x-python",
   "name": "python",
   "nbconvert_exporter": "python",
   "pygments_lexer": "ipython3",
   "version": "3.5.2"
  }
 },
 "nbformat": 4,
 "nbformat_minor": 2
}
