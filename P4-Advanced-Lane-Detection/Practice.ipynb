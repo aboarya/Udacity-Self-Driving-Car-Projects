{
 "cells": [
  {
   "cell_type": "code",
   "execution_count": 21,
   "metadata": {
    "collapsed": false
   },
   "outputs": [],
   "source": [
    "import numpy as np\n",
    "import cv2\n",
    "import glob\n",
    "import matplotlib.pyplot as plt\n",
    "%matplotlib inline\n",
    "\n"
   ]
  },
  {
   "cell_type": "code",
   "execution_count": 92,
   "metadata": {
    "collapsed": false
   },
   "outputs": [],
   "source": [
    "class LaneDetection(object):\n",
    "    \n",
    "    def __init__(self, cal_images):\n",
    "        self.cal_images = cal_images\n",
    "        self.calibrate_camera()\n",
    "    \n",
    "    def set_obj_and_img_points(self):\n",
    "        # prepare object points, like (0,0,0), (1,0,0), (2,0,0) ....,(6,5,0)\n",
    "        objp = np.zeros((6*9,3), np.float32)\n",
    "        objp[:,:2] = np.mgrid[0:9,0:6].T.reshape(-1,2)\n",
    "\n",
    "        # Arrays to store object points and image points from all the images.\n",
    "        self.objpoints = [] # 3d points in real world space\n",
    "        self.imgpoints = [] # 2d points in image plane.\n",
    "    \n",
    "        # Step through the list and search for chessboard corners\n",
    "        for fname in self.cal_images:\n",
    "            img = cv2.imread(fname)\n",
    "            gray = cv2.cvtColor(img,cv2.COLOR_BGR2GRAY)\n",
    "\n",
    "            # Find the chessboard corners\n",
    "            ret, corners = cv2.findChessboardCorners(gray, (9, 6), None)\n",
    "#             if not ret: print(fname)\n",
    "            # If found, add object points, image points\n",
    "            if ret == True:\n",
    "                self.objpoints.append(objp)\n",
    "                self.imgpoints.append(corners)\n",
    "\n",
    "                # Draw and display the corners\n",
    "                img = cv2.drawChessboardCorners(img, (9,6), corners, ret)\n",
    "    \n",
    "    def calibrate_camera(self):\n",
    "        self.set_obj_and_img_points()\n",
    "        if len(self.objpoints) == 0 or len(self.imgpoints) == 0:\n",
    "            raise Exception(\"Calibration Failed!\")\n",
    "        \n",
    "        # Do camera calibration given object points and image points\n",
    "        ret, mtx, dist, rvecs, tvecs = cv2.calibrateCamera(self.objpoints, self.imgpoints, img_size, None, None)\n",
    "        \n",
    "        self.mtx = mtx\n",
    "        self.dist = dist\n",
    "\n",
    "    def undistort(self, img):\n",
    "        return cv2.undistort(img, self.mtx, self.dist, None, mtx)\n",
    "    \n",
    "    def to_gray(self, img):\n",
    "        return cv2.cvtColor(img, cv2.COLOR_BGR2GRAY)\n",
    "    \n",
    "    def top_view(self, img):\n",
    "        # Use the OpenCV undistort() function to remove distortion\n",
    "        undist = self.undistort(img)\n",
    "        \n",
    "        # Convert undistorted image to grayscale\n",
    "        gray = self.to_gray(undist)\n",
    "        \n",
    "    def binary_transform(self, img, orient='x', thresh_min=0, thresh_max=255, ksize=5):\n",
    "        print(ksize)\n",
    "        # Convert to grayscale\n",
    "        gray = self.to_gray(img)\n",
    "        \n",
    "        # Apply x or y gradient with the OpenCV Sobel() function\n",
    "        # and take the absolute value\n",
    "        if orient == 'x':\n",
    "            abs_sobel = np.absolute(cv2.Sobel(gray, cv2.CV_64F, 1, 0, ksize=ksize))\n",
    "        if orient == 'y':\n",
    "            abs_sobel = np.absolute(cv2.Sobel(gray, cv2.CV_64F, 0, 1, ksize=ksize))\n",
    "       \n",
    "        # Rescale back to 8 bit integer\n",
    "        scaled_sobel = np.uint8(255 * abs_sobel / np.max(abs_sobel))\n",
    "        \n",
    "        # Create a copy and apply the threshold\n",
    "        binary_output = np.zeros_like(scaled_sobel)\n",
    "        \n",
    "        binary_output[(scaled_sobel >= thresh_min) & (scaled_sobel <= thresh_max)] = 1\n",
    "\n",
    "        # Return the result\n",
    "        return binary_output\n",
    "#         return scaled_sobel\n"
   ]
  },
  {
   "cell_type": "code",
   "execution_count": 123,
   "metadata": {
    "collapsed": false
   },
   "outputs": [],
   "source": [
    "lane_detection = LaneDetection(glob.glob('camera_cal/calibration*.jpg'))"
   ]
  },
  {
   "cell_type": "code",
   "execution_count": 156,
   "metadata": {
    "collapsed": false
   },
   "outputs": [
    {
     "name": "stdout",
     "output_type": "stream",
     "text": [
      "7\n"
     ]
    },
    {
     "data": {
      "text/plain": [
       "<matplotlib.image.AxesImage at 0x7f5c3d54d128>"
      ]
     },
     "execution_count": 156,
     "metadata": {},
     "output_type": "execute_result"
    },
    {
     "data": {
      "image/png": "[encoded data removed]",
      "text/plain": [
       "<matplotlib.figure.Figure at 0x7f5c3d587128>"
      ]
     },
     "metadata": {},
     "output_type": "display_data"
    }
   ],
   "source": [
    "img = cv2.imread('test_images/test3.jpg')\n",
    "dst = lane_detection.binary_transform(img, thresh_min=40, thresh_max=200, ksize=7)\n",
    "cv2.imwrite('output_images/binary_test3.jpg', dst*255)\n",
    "plt.imshow(dst, interpolation='nearest', aspect='auto', cmap='gray')"
   ]
  },
  {
   "cell_type": "code",
   "execution_count": null,
   "metadata": {
    "collapsed": false
   },
   "outputs": [],
   "source": []
  },
  {
   "cell_type": "code",
   "execution_count": null,
   "metadata": {
    "collapsed": true
   },
   "outputs": [],
   "source": []
  }
 ],
 "metadata": {
  "kernelspec": {
   "display_name": "Python 3",
   "language": "python",
   "name": "python3"
  },
  "language_info": {
   "codemirror_mode": {
    "name": "ipython",
    "version": 3
   },
   "file_extension": ".py",
   "mimetype": "text/x-python",
   "name": "python",
   "nbconvert_exporter": "python",
   "pygments_lexer": "ipython3",
   "version": "3.5.2"
  }
 },
 "nbformat": 4,
 "nbformat_minor": 2
}
